{
 "cells": [
  {
   "cell_type": "code",
   "execution_count": 1,
   "metadata": {},
   "outputs": [
    {
     "name": "stdout",
     "output_type": "stream",
     "text": [
      "time: 3.33 s (started: 2023-08-04 23:14:52 +03:00)\n"
     ]
    },
    {
     "data": {
      "application/javascript": [
       "\n",
       "            setTimeout(function() {\n",
       "                var nbb_cell_id = 1;\n",
       "                var nbb_unformatted_code = \"%load_ext autoreload\\n%load_ext autotime\\n%load_ext nb_black\\n%autoreload 2\";\n",
       "                var nbb_formatted_code = \"%load_ext autoreload\\n%load_ext autotime\\n%load_ext nb_black\\n%autoreload 2\";\n",
       "                var nbb_cells = Jupyter.notebook.get_cells();\n",
       "                for (var i = 0; i < nbb_cells.length; ++i) {\n",
       "                    if (nbb_cells[i].input_prompt_number == nbb_cell_id) {\n",
       "                        if (nbb_cells[i].get_text() == nbb_unformatted_code) {\n",
       "                             nbb_cells[i].set_text(nbb_formatted_code);\n",
       "                        }\n",
       "                        break;\n",
       "                    }\n",
       "                }\n",
       "            }, 500);\n",
       "            "
      ],
      "text/plain": [
       "<IPython.core.display.Javascript object>"
      ]
     },
     "metadata": {},
     "output_type": "display_data"
    }
   ],
   "source": [
    "%load_ext autoreload\n",
    "%load_ext autotime\n",
    "%load_ext nb_black\n",
    "%autoreload 2"
   ]
  },
  {
   "cell_type": "code",
   "execution_count": 2,
   "metadata": {},
   "outputs": [
    {
     "name": "stdout",
     "output_type": "stream",
     "text": [
      "time: 2.53 s (started: 2023-08-04 23:14:56 +03:00)\n"
     ]
    },
    {
     "data": {
      "application/javascript": [
       "\n",
       "            setTimeout(function() {\n",
       "                var nbb_cell_id = 2;\n",
       "                var nbb_unformatted_code = \"from sklearn.metrics import classification_report\";\n",
       "                var nbb_formatted_code = \"from sklearn.metrics import classification_report\";\n",
       "                var nbb_cells = Jupyter.notebook.get_cells();\n",
       "                for (var i = 0; i < nbb_cells.length; ++i) {\n",
       "                    if (nbb_cells[i].input_prompt_number == nbb_cell_id) {\n",
       "                        if (nbb_cells[i].get_text() == nbb_unformatted_code) {\n",
       "                             nbb_cells[i].set_text(nbb_formatted_code);\n",
       "                        }\n",
       "                        break;\n",
       "                    }\n",
       "                }\n",
       "            }, 500);\n",
       "            "
      ],
      "text/plain": [
       "<IPython.core.display.Javascript object>"
      ]
     },
     "metadata": {},
     "output_type": "display_data"
    }
   ],
   "source": []
  },
  {
   "cell_type": "code",
   "execution_count": 3,
   "metadata": {},
   "outputs": [
    {
     "name": "stderr",
     "output_type": "stream",
     "text": [
      "C:\\ProgramData\\Anaconda3\\lib\\site-packages\\bamt\\log.py:20: UserWarning: Reading log path location from config file failed. Default location will be used instead.\n",
      "  warnings.warn(\n"
     ]
    },
    {
     "name": "stdout",
     "output_type": "stream",
     "text": [
      "time: 14.1 s (started: 2023-08-04 23:14:58 +03:00)\n"
     ]
    },
    {
     "data": {
      "application/javascript": [
       "\n",
       "            setTimeout(function() {\n",
       "                var nbb_cell_id = 3;\n",
       "                var nbb_unformatted_code = \"from bamt.networks.hybrid_bn import HybridBN\\nimport bamt.preprocessors as pp\\n\\nimport pandas as pd\\nimport numpy as np\\nimport matplotlib.pyplot as plt\\n\\nfrom sklearn import preprocessing\\nfrom sklearn.metrics import accuracy_score, mean_squared_error\\nfrom sklearn.ensemble import RandomForestClassifier\\nfrom sklearn.neighbors import KNeighborsClassifier\\nfrom sklearn.tree import DecisionTreeClassifier\\n\\nfrom pgmpy.estimators import K2Score\";\n",
       "                var nbb_formatted_code = \"from bamt.networks.hybrid_bn import HybridBN\\nimport bamt.preprocessors as pp\\n\\nimport pandas as pd\\nimport numpy as np\\nimport matplotlib.pyplot as plt\\n\\nfrom sklearn import preprocessing\\nfrom sklearn.metrics import accuracy_score, mean_squared_error\\nfrom sklearn.ensemble import RandomForestClassifier\\nfrom sklearn.neighbors import KNeighborsClassifier\\nfrom sklearn.tree import DecisionTreeClassifier\\n\\nfrom pgmpy.estimators import K2Score\";\n",
       "                var nbb_cells = Jupyter.notebook.get_cells();\n",
       "                for (var i = 0; i < nbb_cells.length; ++i) {\n",
       "                    if (nbb_cells[i].input_prompt_number == nbb_cell_id) {\n",
       "                        if (nbb_cells[i].get_text() == nbb_unformatted_code) {\n",
       "                             nbb_cells[i].set_text(nbb_formatted_code);\n",
       "                        }\n",
       "                        break;\n",
       "                    }\n",
       "                }\n",
       "            }, 500);\n",
       "            "
      ],
      "text/plain": [
       "<IPython.core.display.Javascript object>"
      ]
     },
     "metadata": {},
     "output_type": "display_data"
    }
   ],
   "source": [
    "from bamt.networks.hybrid_bn import HybridBN\n",
    "import bamt.preprocessors as pp\n",
    "\n",
    "import pandas as pd\n",
    "import numpy as np\n",
    "import matplotlib.pyplot as plt\n",
    "\n",
    "from sklearn import preprocessing\n",
    "from sklearn.metrics import accuracy_score, mean_squared_error\n",
    "from sklearn.ensemble import RandomForestClassifier\n",
    "from sklearn.neighbors import KNeighborsClassifier\n",
    "from sklearn.tree import DecisionTreeClassifier\n",
    "\n",
    "from pgmpy.estimators import K2Score"
   ]
  },
  {
   "cell_type": "code",
   "execution_count": 23,
   "metadata": {},
   "outputs": [
    {
     "name": "stdout",
     "output_type": "stream",
     "text": [
      "time: 0 ns (started: 2023-08-04 23:50:44 +03:00)\n"
     ]
    },
    {
     "data": {
      "application/javascript": [
       "\n",
       "            setTimeout(function() {\n",
       "                var nbb_cell_id = 23;\n",
       "                var nbb_unformatted_code = \"from sklearn.model_selection import train_test_split, StratifiedKFold, cross_validate\\nfrom sklearn.metrics import classification_report\\nfrom sklearn.dummy import DummyClassifier\\nfrom catboost import CatBoostClassifier\\nfrom xgboost import XGBClassifier\\nfrom sklearn.metrics import f1_score\";\n",
       "                var nbb_formatted_code = \"from sklearn.model_selection import train_test_split, StratifiedKFold, cross_validate\\nfrom sklearn.metrics import classification_report\\nfrom sklearn.dummy import DummyClassifier\\nfrom catboost import CatBoostClassifier\\nfrom xgboost import XGBClassifier\\nfrom sklearn.metrics import f1_score\";\n",
       "                var nbb_cells = Jupyter.notebook.get_cells();\n",
       "                for (var i = 0; i < nbb_cells.length; ++i) {\n",
       "                    if (nbb_cells[i].input_prompt_number == nbb_cell_id) {\n",
       "                        if (nbb_cells[i].get_text() == nbb_unformatted_code) {\n",
       "                             nbb_cells[i].set_text(nbb_formatted_code);\n",
       "                        }\n",
       "                        break;\n",
       "                    }\n",
       "                }\n",
       "            }, 500);\n",
       "            "
      ],
      "text/plain": [
       "<IPython.core.display.Javascript object>"
      ]
     },
     "metadata": {},
     "output_type": "display_data"
    }
   ],
   "source": [
    "from sklearn.model_selection import train_test_split, StratifiedKFold, cross_validate\n",
    "from sklearn.metrics import classification_report\n",
    "from sklearn.dummy import DummyClassifier\n",
    "from catboost import CatBoostClassifier\n",
    "from xgboost import XGBClassifier\n",
    "from sklearn.metrics import f1_score"
   ]
  },
  {
   "cell_type": "code",
   "execution_count": 5,
   "metadata": {},
   "outputs": [
    {
     "name": "stdout",
     "output_type": "stream",
     "text": [
      "time: 0 ns (started: 2023-08-04 23:15:13 +03:00)\n"
     ]
    },
    {
     "data": {
      "application/javascript": [
       "\n",
       "            setTimeout(function() {\n",
       "                var nbb_cell_id = 5;\n",
       "                var nbb_unformatted_code = \"pd.set_option(\\\"display.precision\\\", 5)\\npd.set_option(\\\"display.max_rows\\\", 100)\\npd.set_option(\\\"display.max_columns\\\", 100)\";\n",
       "                var nbb_formatted_code = \"pd.set_option(\\\"display.precision\\\", 5)\\npd.set_option(\\\"display.max_rows\\\", 100)\\npd.set_option(\\\"display.max_columns\\\", 100)\";\n",
       "                var nbb_cells = Jupyter.notebook.get_cells();\n",
       "                for (var i = 0; i < nbb_cells.length; ++i) {\n",
       "                    if (nbb_cells[i].input_prompt_number == nbb_cell_id) {\n",
       "                        if (nbb_cells[i].get_text() == nbb_unformatted_code) {\n",
       "                             nbb_cells[i].set_text(nbb_formatted_code);\n",
       "                        }\n",
       "                        break;\n",
       "                    }\n",
       "                }\n",
       "            }, 500);\n",
       "            "
      ],
      "text/plain": [
       "<IPython.core.display.Javascript object>"
      ]
     },
     "metadata": {},
     "output_type": "display_data"
    }
   ],
   "source": [
    "pd.set_option(\"display.precision\", 5)\n",
    "pd.set_option(\"display.max_rows\", 100)\n",
    "pd.set_option(\"display.max_columns\", 100)"
   ]
  },
  {
   "cell_type": "code",
   "execution_count": 11,
   "metadata": {},
   "outputs": [
    {
     "name": "stdout",
     "output_type": "stream",
     "text": [
      "time: 312 ms (started: 2023-08-04 23:16:12 +03:00)\n"
     ]
    },
    {
     "data": {
      "application/javascript": [
       "\n",
       "            setTimeout(function() {\n",
       "                var nbb_cell_id = 11;\n",
       "                var nbb_unformatted_code = \"data = pd.read_csv(r\\\"real_data\\\\vk_data.csv\\\")\\ndata\\n# data = data.sample(10000)\\ndata = data.iloc[:, int(data.shape[1] / 2):-1]\";\n",
       "                var nbb_formatted_code = \"data = pd.read_csv(r\\\"real_data\\\\vk_data.csv\\\")\\ndata\\n# data = data.sample(10000)\\ndata = data.iloc[:, int(data.shape[1] / 2) : -1]\";\n",
       "                var nbb_cells = Jupyter.notebook.get_cells();\n",
       "                for (var i = 0; i < nbb_cells.length; ++i) {\n",
       "                    if (nbb_cells[i].input_prompt_number == nbb_cell_id) {\n",
       "                        if (nbb_cells[i].get_text() == nbb_unformatted_code) {\n",
       "                             nbb_cells[i].set_text(nbb_formatted_code);\n",
       "                        }\n",
       "                        break;\n",
       "                    }\n",
       "                }\n",
       "            }, 500);\n",
       "            "
      ],
      "text/plain": [
       "<IPython.core.display.Javascript object>"
      ]
     },
     "metadata": {},
     "output_type": "display_data"
    }
   ],
   "source": [
    "data = pd.read_csv(r\"real_data\\vk_data.csv\")\n",
    "data\n",
    "# data = data.sample(10000)\n",
    "data = data.iloc[:, int(data.shape[1] / 2) : -1]"
   ]
  },
  {
   "cell_type": "code",
   "execution_count": null,
   "metadata": {},
   "outputs": [],
   "source": []
  },
  {
   "cell_type": "code",
   "execution_count": null,
   "metadata": {},
   "outputs": [],
   "source": []
  },
  {
   "cell_type": "code",
   "execution_count": 12,
   "metadata": {},
   "outputs": [
    {
     "name": "stdout",
     "output_type": "stream",
     "text": [
      "time: 16 ms (started: 2023-08-04 23:16:15 +03:00)\n"
     ]
    },
    {
     "data": {
      "application/javascript": [
       "\n",
       "            setTimeout(function() {\n",
       "                var nbb_cell_id = 12;\n",
       "                var nbb_unformatted_code = \"cat_features = [\\n    \\\"sex\\\",\\n    \\\"is_parent\\\",\\n    \\\"relation\\\",\\n    \\\"is_driver\\\",\\n]\\ncat_features = data.select_dtypes(\\\"object\\\").columns.values.tolist()\\n\\n\\nif cat_features:\\n    data[cat_features] = data[cat_features].astype(str)\\n\\ntarget = \\\"has_pets\\\"\\nX = data\\n# X = data[[\\\"age\\\", \\\"sex\\\", \\\"has_pets\\\", \\\"is_parent\\\", \\\"relation\\\", \\\"is_driver\\\", \\\"tr_per_month\\\", \\\"median_tr\\\", \\\"mean_tr\\\"]]\";\n",
       "                var nbb_formatted_code = \"cat_features = [\\n    \\\"sex\\\",\\n    \\\"is_parent\\\",\\n    \\\"relation\\\",\\n    \\\"is_driver\\\",\\n]\\ncat_features = data.select_dtypes(\\\"object\\\").columns.values.tolist()\\n\\n\\nif cat_features:\\n    data[cat_features] = data[cat_features].astype(str)\\n\\ntarget = \\\"has_pets\\\"\\nX = data\\n# X = data[[\\\"age\\\", \\\"sex\\\", \\\"has_pets\\\", \\\"is_parent\\\", \\\"relation\\\", \\\"is_driver\\\", \\\"tr_per_month\\\", \\\"median_tr\\\", \\\"mean_tr\\\"]]\";\n",
       "                var nbb_cells = Jupyter.notebook.get_cells();\n",
       "                for (var i = 0; i < nbb_cells.length; ++i) {\n",
       "                    if (nbb_cells[i].input_prompt_number == nbb_cell_id) {\n",
       "                        if (nbb_cells[i].get_text() == nbb_unformatted_code) {\n",
       "                             nbb_cells[i].set_text(nbb_formatted_code);\n",
       "                        }\n",
       "                        break;\n",
       "                    }\n",
       "                }\n",
       "            }, 500);\n",
       "            "
      ],
      "text/plain": [
       "<IPython.core.display.Javascript object>"
      ]
     },
     "metadata": {},
     "output_type": "display_data"
    }
   ],
   "source": [
    "cat_features = [\n",
    "    \"sex\",\n",
    "    \"is_parent\",\n",
    "    \"relation\",\n",
    "    \"is_driver\",\n",
    "]\n",
    "cat_features = data.select_dtypes(\"object\").columns.values.tolist()\n",
    "\n",
    "\n",
    "if cat_features:\n",
    "    data[cat_features] = data[cat_features].astype(str)\n",
    "\n",
    "target = \"has_pets\"\n",
    "X = data\n",
    "# X = data[[\"age\", \"sex\", \"has_pets\", \"is_parent\", \"relation\", \"is_driver\", \"tr_per_month\", \"median_tr\", \"mean_tr\"]]"
   ]
  },
  {
   "cell_type": "code",
   "execution_count": null,
   "metadata": {},
   "outputs": [],
   "source": []
  },
  {
   "cell_type": "code",
   "execution_count": 13,
   "metadata": {},
   "outputs": [
    {
     "data": {
      "text/plain": [
       "0    0.94807\n",
       "1    0.05193\n",
       "Name: has_pets, dtype: float64"
      ]
     },
     "execution_count": 13,
     "metadata": {},
     "output_type": "execute_result"
    },
    {
     "name": "stdout",
     "output_type": "stream",
     "text": [
      "time: 31 ms (started: 2023-08-04 23:16:15 +03:00)\n"
     ]
    },
    {
     "data": {
      "application/javascript": [
       "\n",
       "            setTimeout(function() {\n",
       "                var nbb_cell_id = 13;\n",
       "                var nbb_unformatted_code = \"X[target].value_counts(normalize=True)\";\n",
       "                var nbb_formatted_code = \"X[target].value_counts(normalize=True)\";\n",
       "                var nbb_cells = Jupyter.notebook.get_cells();\n",
       "                for (var i = 0; i < nbb_cells.length; ++i) {\n",
       "                    if (nbb_cells[i].input_prompt_number == nbb_cell_id) {\n",
       "                        if (nbb_cells[i].get_text() == nbb_unformatted_code) {\n",
       "                             nbb_cells[i].set_text(nbb_formatted_code);\n",
       "                        }\n",
       "                        break;\n",
       "                    }\n",
       "                }\n",
       "            }, 500);\n",
       "            "
      ],
      "text/plain": [
       "<IPython.core.display.Javascript object>"
      ]
     },
     "metadata": {},
     "output_type": "display_data"
    }
   ],
   "source": [
    "X[target].value_counts(normalize=True)"
   ]
  },
  {
   "cell_type": "code",
   "execution_count": 14,
   "metadata": {},
   "outputs": [
    {
     "name": "stdout",
     "output_type": "stream",
     "text": [
      "time: 47 ms (started: 2023-08-04 23:16:16 +03:00)\n"
     ]
    },
    {
     "data": {
      "application/javascript": [
       "\n",
       "            setTimeout(function() {\n",
       "                var nbb_cell_id = 14;\n",
       "                var nbb_unformatted_code = \"X_train, X_test = train_test_split(X, test_size=5000, shuffle=True, stratify=X[target])\";\n",
       "                var nbb_formatted_code = \"X_train, X_test = train_test_split(X, test_size=5000, shuffle=True, stratify=X[target])\";\n",
       "                var nbb_cells = Jupyter.notebook.get_cells();\n",
       "                for (var i = 0; i < nbb_cells.length; ++i) {\n",
       "                    if (nbb_cells[i].input_prompt_number == nbb_cell_id) {\n",
       "                        if (nbb_cells[i].get_text() == nbb_unformatted_code) {\n",
       "                             nbb_cells[i].set_text(nbb_formatted_code);\n",
       "                        }\n",
       "                        break;\n",
       "                    }\n",
       "                }\n",
       "            }, 500);\n",
       "            "
      ],
      "text/plain": [
       "<IPython.core.display.Javascript object>"
      ]
     },
     "metadata": {},
     "output_type": "display_data"
    }
   ],
   "source": [
    "X_train, X_test = train_test_split(X, test_size=5000, shuffle=True, stratify=X[target])"
   ]
  },
  {
   "cell_type": "code",
   "execution_count": 15,
   "metadata": {},
   "outputs": [
    {
     "data": {
      "text/plain": [
       "0    0.94808\n",
       "1    0.05192\n",
       "Name: has_pets, dtype: float64"
      ]
     },
     "execution_count": 15,
     "metadata": {},
     "output_type": "execute_result"
    },
    {
     "name": "stdout",
     "output_type": "stream",
     "text": [
      "time: 0 ns (started: 2023-08-04 23:16:18 +03:00)\n"
     ]
    },
    {
     "data": {
      "application/javascript": [
       "\n",
       "            setTimeout(function() {\n",
       "                var nbb_cell_id = 15;\n",
       "                var nbb_unformatted_code = \"X_train[target].value_counts(normalize=True)\";\n",
       "                var nbb_formatted_code = \"X_train[target].value_counts(normalize=True)\";\n",
       "                var nbb_cells = Jupyter.notebook.get_cells();\n",
       "                for (var i = 0; i < nbb_cells.length; ++i) {\n",
       "                    if (nbb_cells[i].input_prompt_number == nbb_cell_id) {\n",
       "                        if (nbb_cells[i].get_text() == nbb_unformatted_code) {\n",
       "                             nbb_cells[i].set_text(nbb_formatted_code);\n",
       "                        }\n",
       "                        break;\n",
       "                    }\n",
       "                }\n",
       "            }, 500);\n",
       "            "
      ],
      "text/plain": [
       "<IPython.core.display.Javascript object>"
      ]
     },
     "metadata": {},
     "output_type": "display_data"
    }
   ],
   "source": [
    "X_train[target].value_counts(normalize=True)"
   ]
  },
  {
   "cell_type": "code",
   "execution_count": 16,
   "metadata": {},
   "outputs": [
    {
     "data": {
      "text/plain": [
       "0    0.948\n",
       "1    0.052\n",
       "Name: has_pets, dtype: float64"
      ]
     },
     "execution_count": 16,
     "metadata": {},
     "output_type": "execute_result"
    },
    {
     "name": "stdout",
     "output_type": "stream",
     "text": [
      "time: 15 ms (started: 2023-08-04 23:16:18 +03:00)\n"
     ]
    },
    {
     "data": {
      "application/javascript": [
       "\n",
       "            setTimeout(function() {\n",
       "                var nbb_cell_id = 16;\n",
       "                var nbb_unformatted_code = \"X_test[target].value_counts(normalize=True)\";\n",
       "                var nbb_formatted_code = \"X_test[target].value_counts(normalize=True)\";\n",
       "                var nbb_cells = Jupyter.notebook.get_cells();\n",
       "                for (var i = 0; i < nbb_cells.length; ++i) {\n",
       "                    if (nbb_cells[i].input_prompt_number == nbb_cell_id) {\n",
       "                        if (nbb_cells[i].get_text() == nbb_unformatted_code) {\n",
       "                             nbb_cells[i].set_text(nbb_formatted_code);\n",
       "                        }\n",
       "                        break;\n",
       "                    }\n",
       "                }\n",
       "            }, 500);\n",
       "            "
      ],
      "text/plain": [
       "<IPython.core.display.Javascript object>"
      ]
     },
     "metadata": {},
     "output_type": "display_data"
    }
   ],
   "source": [
    "X_test[target].value_counts(normalize=True)"
   ]
  },
  {
   "cell_type": "code",
   "execution_count": null,
   "metadata": {},
   "outputs": [],
   "source": []
  },
  {
   "cell_type": "code",
   "execution_count": 24,
   "metadata": {},
   "outputs": [
    {
     "name": "stdout",
     "output_type": "stream",
     "text": [
      "Catboost: f1=0.952561669829222\n",
      "              precision    recall  f1-score   support\n",
      "\n",
      "           0     0.9981    0.9966    0.9974      4740\n",
      "           1     0.9401    0.9654    0.9526       260\n",
      "\n",
      "    accuracy                         0.9950      5000\n",
      "   macro avg     0.9691    0.9810    0.9750      5000\n",
      "weighted avg     0.9951    0.9950    0.9950      5000\n",
      "\n",
      "time: 4.73 s (started: 2023-08-04 18:07:22 +03:00)\n"
     ]
    },
    {
     "data": {
      "application/javascript": [
       "\n",
       "            setTimeout(function() {\n",
       "                var nbb_cell_id = 24;\n",
       "                var nbb_unformatted_code = \"gbm = CatBoostClassifier(cat_features=cat_features, n_estimators=100)  # , eval_fraction=0.5\\ngbm.fit(X_train.drop(columns=[target]), X_train[target], plot=False, verbose=False)\\npreds = gbm.predict(X_test.drop(columns=[target]))\\nprint(f\\\"Catboost: f1={f1_score(y_true=X_test[target],y_pred=preds)}\\\")\\nprint(classification_report(y_true=X_test[target], y_pred=preds, digits=4))\";\n",
       "                var nbb_formatted_code = \"gbm = CatBoostClassifier(cat_features=cat_features, n_estimators=100)  # , eval_fraction=0.5\\ngbm.fit(X_train.drop(columns=[target]), X_train[target], plot=False, verbose=False)\\npreds = gbm.predict(X_test.drop(columns=[target]))\\nprint(f\\\"Catboost: f1={f1_score(y_true=X_test[target],y_pred=preds)}\\\")\\nprint(classification_report(y_true=X_test[target], y_pred=preds, digits=4))\";\n",
       "                var nbb_cells = Jupyter.notebook.get_cells();\n",
       "                for (var i = 0; i < nbb_cells.length; ++i) {\n",
       "                    if (nbb_cells[i].input_prompt_number == nbb_cell_id) {\n",
       "                        if (nbb_cells[i].get_text() == nbb_unformatted_code) {\n",
       "                             nbb_cells[i].set_text(nbb_formatted_code);\n",
       "                        }\n",
       "                        break;\n",
       "                    }\n",
       "                }\n",
       "            }, 500);\n",
       "            "
      ],
      "text/plain": [
       "<IPython.core.display.Javascript object>"
      ]
     },
     "metadata": {},
     "output_type": "display_data"
    }
   ],
   "source": [
    "gbm = CatBoostClassifier(cat_features=cat_features, n_estimators=100)  # , eval_fraction=0.5\n",
    "gbm.fit(X_train.drop(columns=[target]), X_train[target], plot=False, verbose=False)\n",
    "preds = gbm.predict(X_test.drop(columns=[target]))\n",
    "print(f\"Catboost: f1={f1_score(y_true=X_test[target],y_pred=preds)}\")\n",
    "print(classification_report(y_true=X_test[target], y_pred=preds, digits=4))"
   ]
  },
  {
   "cell_type": "code",
   "execution_count": 60,
   "metadata": {},
   "outputs": [
    {
     "name": "stdout",
     "output_type": "stream",
     "text": [
      "0.003529411764705882 +- 0.020069084834390568\n",
      "time: 4min 46s (started: 2023-08-04 17:44:28 +03:00)\n"
     ]
    },
    {
     "data": {
      "application/javascript": [
       "\n",
       "            setTimeout(function() {\n",
       "                var nbb_cell_id = 60;\n",
       "                var nbb_unformatted_code = \"res=cross_validate(\\n    CatBoostClassifier(cat_features=cat_features, n_estimators=100, verbose=False),\\n    X.drop(columns=[target]),\\n    X[target],\\n    cv=StratifiedKFold(n_splits=100),\\n    scoring=\\\"f1\\\",\\n)\\nprint(f\\\"{res['test_score'].mean()} +- {res['test_score'].std()}\\\")\";\n",
       "                var nbb_formatted_code = \"res = cross_validate(\\n    CatBoostClassifier(cat_features=cat_features, n_estimators=100, verbose=False),\\n    X.drop(columns=[target]),\\n    X[target],\\n    cv=StratifiedKFold(n_splits=100),\\n    scoring=\\\"f1\\\",\\n)\\nprint(f\\\"{res['test_score'].mean()} +- {res['test_score'].std()}\\\")\";\n",
       "                var nbb_cells = Jupyter.notebook.get_cells();\n",
       "                for (var i = 0; i < nbb_cells.length; ++i) {\n",
       "                    if (nbb_cells[i].input_prompt_number == nbb_cell_id) {\n",
       "                        if (nbb_cells[i].get_text() == nbb_unformatted_code) {\n",
       "                             nbb_cells[i].set_text(nbb_formatted_code);\n",
       "                        }\n",
       "                        break;\n",
       "                    }\n",
       "                }\n",
       "            }, 500);\n",
       "            "
      ],
      "text/plain": [
       "<IPython.core.display.Javascript object>"
      ]
     },
     "metadata": {},
     "output_type": "display_data"
    }
   ],
   "source": [
    "res = cross_validate(\n",
    "    CatBoostClassifier(cat_features=cat_features, n_estimators=100, verbose=False),\n",
    "    X.drop(columns=[target]),\n",
    "    X[target],\n",
    "    cv=StratifiedKFold(n_splits=100),\n",
    "    scoring=\"f1\",\n",
    ")\n",
    "print(f\"{res['test_score'].mean()} +- {res['test_score'].std()}\")"
   ]
  },
  {
   "cell_type": "code",
   "execution_count": null,
   "metadata": {},
   "outputs": [],
   "source": []
  },
  {
   "cell_type": "code",
   "execution_count": 25,
   "metadata": {},
   "outputs": [
    {
     "name": "stdout",
     "output_type": "stream",
     "text": [
      "XGBClassifier: f1=0.9581749049429658\n",
      "              precision    recall  f1-score   support\n",
      "\n",
      "           0     0.9983    0.9970    0.9977      4740\n",
      "           1     0.9474    0.9692    0.9582       260\n",
      "\n",
      "    accuracy                         0.9956      5000\n",
      "   macro avg     0.9728    0.9831    0.9779      5000\n",
      "weighted avg     0.9957    0.9956    0.9956      5000\n",
      "\n",
      "time: 1.06 s (started: 2023-08-04 18:07:53 +03:00)\n"
     ]
    },
    {
     "data": {
      "application/javascript": [
       "\n",
       "            setTimeout(function() {\n",
       "                var nbb_cell_id = 25;\n",
       "                var nbb_unformatted_code = \"gbm = XGBClassifier(n_estimators=100, enable_categorical=True, tree_method=\\\"hist\\\")\\nX_train[cat_features] = X_train[cat_features].astype(\\\"category\\\")\\nX_test[cat_features] = X_test[cat_features].astype(\\\"category\\\")\\ngbm.fit(X_train.drop(columns=[target]), X_train[target], verbose=False)\\npreds = gbm.predict(X_test.drop(columns=[target]))\\nprint(f\\\"XGBClassifier: f1={f1_score(y_true=X_test[target],y_pred=preds)}\\\")\\nprint(classification_report(y_true=X_test[target], y_pred=preds, digits=4))\";\n",
       "                var nbb_formatted_code = \"gbm = XGBClassifier(n_estimators=100, enable_categorical=True, tree_method=\\\"hist\\\")\\nX_train[cat_features] = X_train[cat_features].astype(\\\"category\\\")\\nX_test[cat_features] = X_test[cat_features].astype(\\\"category\\\")\\ngbm.fit(X_train.drop(columns=[target]), X_train[target], verbose=False)\\npreds = gbm.predict(X_test.drop(columns=[target]))\\nprint(f\\\"XGBClassifier: f1={f1_score(y_true=X_test[target],y_pred=preds)}\\\")\\nprint(classification_report(y_true=X_test[target], y_pred=preds, digits=4))\";\n",
       "                var nbb_cells = Jupyter.notebook.get_cells();\n",
       "                for (var i = 0; i < nbb_cells.length; ++i) {\n",
       "                    if (nbb_cells[i].input_prompt_number == nbb_cell_id) {\n",
       "                        if (nbb_cells[i].get_text() == nbb_unformatted_code) {\n",
       "                             nbb_cells[i].set_text(nbb_formatted_code);\n",
       "                        }\n",
       "                        break;\n",
       "                    }\n",
       "                }\n",
       "            }, 500);\n",
       "            "
      ],
      "text/plain": [
       "<IPython.core.display.Javascript object>"
      ]
     },
     "metadata": {},
     "output_type": "display_data"
    }
   ],
   "source": [
    "gbm = XGBClassifier(n_estimators=100, enable_categorical=True, tree_method=\"hist\")\n",
    "X_train[cat_features] = X_train[cat_features].astype(\"category\")\n",
    "X_test[cat_features] = X_test[cat_features].astype(\"category\")\n",
    "gbm.fit(X_train.drop(columns=[target]), X_train[target], verbose=False)\n",
    "preds = gbm.predict(X_test.drop(columns=[target]))\n",
    "print(f\"XGBClassifier: f1={f1_score(y_true=X_test[target],y_pred=preds)}\")\n",
    "print(classification_report(y_true=X_test[target], y_pred=preds, digits=4))"
   ]
  },
  {
   "cell_type": "code",
   "execution_count": 78,
   "metadata": {},
   "outputs": [
    {
     "name": "stdout",
     "output_type": "stream",
     "text": [
      "0.01165032679738562 +- 0.038355493012708616\n",
      "time: 36.3 s (started: 2023-08-04 17:56:35 +03:00)\n"
     ]
    },
    {
     "data": {
      "application/javascript": [
       "\n",
       "            setTimeout(function() {\n",
       "                var nbb_cell_id = 78;\n",
       "                var nbb_unformatted_code = \"X[cat_features] = X[cat_features].astype(\\\"category\\\")\\nres = cross_validate(\\n    XGBClassifier(n_estimators=100, enable_categorical=True, tree_method=\\\"hist\\\"),\\n    X.drop(columns=[target]),\\n    X[target],\\n    cv=StratifiedKFold(n_splits=100),\\n    scoring=\\\"f1\\\",\\n)\\nprint(f\\\"{res['test_score'].mean()} +- {res['test_score'].std()}\\\")\";\n",
       "                var nbb_formatted_code = \"X[cat_features] = X[cat_features].astype(\\\"category\\\")\\nres = cross_validate(\\n    XGBClassifier(n_estimators=100, enable_categorical=True, tree_method=\\\"hist\\\"),\\n    X.drop(columns=[target]),\\n    X[target],\\n    cv=StratifiedKFold(n_splits=100),\\n    scoring=\\\"f1\\\",\\n)\\nprint(f\\\"{res['test_score'].mean()} +- {res['test_score'].std()}\\\")\";\n",
       "                var nbb_cells = Jupyter.notebook.get_cells();\n",
       "                for (var i = 0; i < nbb_cells.length; ++i) {\n",
       "                    if (nbb_cells[i].input_prompt_number == nbb_cell_id) {\n",
       "                        if (nbb_cells[i].get_text() == nbb_unformatted_code) {\n",
       "                             nbb_cells[i].set_text(nbb_formatted_code);\n",
       "                        }\n",
       "                        break;\n",
       "                    }\n",
       "                }\n",
       "            }, 500);\n",
       "            "
      ],
      "text/plain": [
       "<IPython.core.display.Javascript object>"
      ]
     },
     "metadata": {},
     "output_type": "display_data"
    }
   ],
   "source": [
    "X[cat_features] = X[cat_features].astype(\"category\")\n",
    "res = cross_validate(\n",
    "    XGBClassifier(n_estimators=100, enable_categorical=True, tree_method=\"hist\"),\n",
    "    X.drop(columns=[target]),\n",
    "    X[target],\n",
    "    cv=StratifiedKFold(n_splits=100),\n",
    "    scoring=\"f1\",\n",
    ")\n",
    "print(f\"{res['test_score'].mean()} +- {res['test_score'].std()}\")"
   ]
  },
  {
   "cell_type": "code",
   "execution_count": null,
   "metadata": {},
   "outputs": [],
   "source": []
  },
  {
   "cell_type": "code",
   "execution_count": null,
   "metadata": {},
   "outputs": [],
   "source": []
  },
  {
   "cell_type": "code",
   "execution_count": 61,
   "metadata": {},
   "outputs": [
    {
     "name": "stdout",
     "output_type": "stream",
     "text": [
      "0.09801016083159965 +- 0.004471548010181664\n",
      "time: 78 ms (started: 2023-08-04 17:49:15 +03:00)\n"
     ]
    },
    {
     "data": {
      "application/javascript": [
       "\n",
       "            setTimeout(function() {\n",
       "                var nbb_cell_id = 61;\n",
       "                var nbb_unformatted_code = \"res=cross_validate(DummyClassifier(strategy=\\\"uniform\\\"), X.drop(columns=[target]), X[target], cv=StratifiedKFold(n_splits=10), scoring=\\\"f1\\\")\\nprint(f\\\"{res['test_score'].mean()} +- {res['test_score'].std()}\\\")\";\n",
       "                var nbb_formatted_code = \"res = cross_validate(DummyClassifier(strategy=\\\"uniform\\\"), X.drop(columns=[target]), X[target], cv=StratifiedKFold(n_splits=10), scoring=\\\"f1\\\")\\nprint(f\\\"{res['test_score'].mean()} +- {res['test_score'].std()}\\\")\";\n",
       "                var nbb_cells = Jupyter.notebook.get_cells();\n",
       "                for (var i = 0; i < nbb_cells.length; ++i) {\n",
       "                    if (nbb_cells[i].input_prompt_number == nbb_cell_id) {\n",
       "                        if (nbb_cells[i].get_text() == nbb_unformatted_code) {\n",
       "                             nbb_cells[i].set_text(nbb_formatted_code);\n",
       "                        }\n",
       "                        break;\n",
       "                    }\n",
       "                }\n",
       "            }, 500);\n",
       "            "
      ],
      "text/plain": [
       "<IPython.core.display.Javascript object>"
      ]
     },
     "metadata": {},
     "output_type": "display_data"
    }
   ],
   "source": [
    "res = cross_validate(DummyClassifier(strategy=\"uniform\"), X.drop(columns=[target]), X[target], cv=StratifiedKFold(n_splits=10), scoring=\"f1\")\n",
    "print(f\"{res['test_score'].mean()} +- {res['test_score'].std()}\")"
   ]
  },
  {
   "cell_type": "code",
   "execution_count": null,
   "metadata": {},
   "outputs": [],
   "source": []
  },
  {
   "cell_type": "code",
   "execution_count": null,
   "metadata": {},
   "outputs": [],
   "source": []
  },
  {
   "cell_type": "code",
   "execution_count": 68,
   "metadata": {},
   "outputs": [
    {
     "name": "stdout",
     "output_type": "stream",
     "text": [
      "Dummy[uniform]: f1=0.09411764705882353\n",
      "              precision    recall  f1-score   support\n",
      "\n",
      "           0     0.9480    0.5080    0.6615      4740\n",
      "           1     0.0520    0.4923    0.0941       260\n",
      "\n",
      "    accuracy                         0.5072      5000\n",
      "   macro avg     0.5000    0.5002    0.3778      5000\n",
      "weighted avg     0.9014    0.5072    0.6320      5000\n",
      "\n",
      "Dummy[stratified]: f1=0.04098360655737705\n",
      "              precision    recall  f1-score   support\n",
      "\n",
      "           0     0.9476    0.9540    0.9508      4740\n",
      "           1     0.0439    0.0385    0.0410       260\n",
      "\n",
      "    accuracy                         0.9064      5000\n",
      "   macro avg     0.4957    0.4962    0.4959      5000\n",
      "weighted avg     0.9006    0.9064    0.9035      5000\n",
      "\n",
      "Dummy[most_frequent]: f1=0.0\n",
      "              precision    recall  f1-score   support\n",
      "\n",
      "           0     0.9480    1.0000    0.9733      4740\n",
      "           1     0.0000    0.0000    0.0000       260\n",
      "\n",
      "    accuracy                         0.9480      5000\n",
      "   macro avg     0.4740    0.5000    0.4867      5000\n",
      "weighted avg     0.8987    0.9480    0.9227      5000\n",
      "\n",
      "Dummy[prior]: f1=0.0\n",
      "              precision    recall  f1-score   support\n",
      "\n",
      "           0     0.9480    1.0000    0.9733      4740\n",
      "           1     0.0000    0.0000    0.0000       260\n",
      "\n",
      "    accuracy                         0.9480      5000\n",
      "   macro avg     0.4740    0.5000    0.4867      5000\n",
      "weighted avg     0.8987    0.9480    0.9227      5000\n",
      "\n",
      "time: 62 ms (started: 2023-08-04 17:51:11 +03:00)\n"
     ]
    },
    {
     "data": {
      "application/javascript": [
       "\n",
       "            setTimeout(function() {\n",
       "                var nbb_cell_id = 68;\n",
       "                var nbb_unformatted_code = \"for strategy in \\\"uniform stratified most_frequent prior\\\".split():\\n    dummy = DummyClassifier(strategy=strategy)\\n    dummy.fit(X_train.drop(columns=[target]), X_train[target])\\n    preds = dummy.predict(X_test.drop(columns=[target]))\\n    print(f\\\"Dummy[{strategy}]: f1={f1_score(y_true=X_test[target],y_pred=preds)}\\\")\\n    print(classification_report(y_true=X_test[target], y_pred=preds, digits=4))\";\n",
       "                var nbb_formatted_code = \"for strategy in \\\"uniform stratified most_frequent prior\\\".split():\\n    dummy = DummyClassifier(strategy=strategy)\\n    dummy.fit(X_train.drop(columns=[target]), X_train[target])\\n    preds = dummy.predict(X_test.drop(columns=[target]))\\n    print(f\\\"Dummy[{strategy}]: f1={f1_score(y_true=X_test[target],y_pred=preds)}\\\")\\n    print(classification_report(y_true=X_test[target], y_pred=preds, digits=4))\";\n",
       "                var nbb_cells = Jupyter.notebook.get_cells();\n",
       "                for (var i = 0; i < nbb_cells.length; ++i) {\n",
       "                    if (nbb_cells[i].input_prompt_number == nbb_cell_id) {\n",
       "                        if (nbb_cells[i].get_text() == nbb_unformatted_code) {\n",
       "                             nbb_cells[i].set_text(nbb_formatted_code);\n",
       "                        }\n",
       "                        break;\n",
       "                    }\n",
       "                }\n",
       "            }, 500);\n",
       "            "
      ],
      "text/plain": [
       "<IPython.core.display.Javascript object>"
      ]
     },
     "metadata": {},
     "output_type": "display_data"
    }
   ],
   "source": [
    "for strategy in \"uniform stratified most_frequent prior\".split():\n",
    "    dummy = DummyClassifier(strategy=strategy)\n",
    "    dummy.fit(X_train.drop(columns=[target]), X_train[target])\n",
    "    preds = dummy.predict(X_test.drop(columns=[target]))\n",
    "    print(f\"Dummy[{strategy}]: f1={f1_score(y_true=X_test[target],y_pred=preds)}\")\n",
    "    print(classification_report(y_true=X_test[target], y_pred=preds, digits=4))"
   ]
  },
  {
   "cell_type": "code",
   "execution_count": null,
   "metadata": {},
   "outputs": [],
   "source": []
  },
  {
   "cell_type": "code",
   "execution_count": 17,
   "metadata": {},
   "outputs": [
    {
     "name": "stdout",
     "output_type": "stream",
     "text": [
      "time: 0 ns (started: 2023-08-04 23:16:25 +03:00)\n"
     ]
    },
    {
     "data": {
      "application/javascript": [
       "\n",
       "            setTimeout(function() {\n",
       "                var nbb_cell_id = 17;\n",
       "                var nbb_unformatted_code = \"X_train[cat_features] = X_train[cat_features].astype(\\\"str\\\")\\nX_test[cat_features] = X_test[cat_features].astype(\\\"str\\\")\\ndel data\";\n",
       "                var nbb_formatted_code = \"X_train[cat_features] = X_train[cat_features].astype(\\\"str\\\")\\nX_test[cat_features] = X_test[cat_features].astype(\\\"str\\\")\\ndel data\";\n",
       "                var nbb_cells = Jupyter.notebook.get_cells();\n",
       "                for (var i = 0; i < nbb_cells.length; ++i) {\n",
       "                    if (nbb_cells[i].input_prompt_number == nbb_cell_id) {\n",
       "                        if (nbb_cells[i].get_text() == nbb_unformatted_code) {\n",
       "                             nbb_cells[i].set_text(nbb_formatted_code);\n",
       "                        }\n",
       "                        break;\n",
       "                    }\n",
       "                }\n",
       "            }, 500);\n",
       "            "
      ],
      "text/plain": [
       "<IPython.core.display.Javascript object>"
      ]
     },
     "metadata": {},
     "output_type": "display_data"
    }
   ],
   "source": [
    "X_train[cat_features] = X_train[cat_features].astype(\"str\")\n",
    "X_test[cat_features] = X_test[cat_features].astype(\"str\")\n",
    "del data"
   ]
  },
  {
   "cell_type": "code",
   "execution_count": 18,
   "metadata": {},
   "outputs": [
    {
     "name": "stdout",
     "output_type": "stream",
     "text": [
      "time: 125 ms (started: 2023-08-04 23:16:26 +03:00)\n"
     ]
    },
    {
     "data": {
      "application/javascript": [
       "\n",
       "            setTimeout(function() {\n",
       "                var nbb_cell_id = 18;\n",
       "                var nbb_unformatted_code = \"encoder = preprocessing.LabelEncoder()\\ndiscretizer = preprocessing.KBinsDiscretizer(n_bins=5, encode=\\\"ordinal\\\", strategy=\\\"quantile\\\")\\n\\np = pp.Preprocessor([(\\\"encoder\\\", encoder), (\\\"discretizer\\\", discretizer)])\\ndiscretized_data, est = p.apply(X_train)\";\n",
       "                var nbb_formatted_code = \"encoder = preprocessing.LabelEncoder()\\ndiscretizer = preprocessing.KBinsDiscretizer(n_bins=5, encode=\\\"ordinal\\\", strategy=\\\"quantile\\\")\\n\\np = pp.Preprocessor([(\\\"encoder\\\", encoder), (\\\"discretizer\\\", discretizer)])\\ndiscretized_data, est = p.apply(X_train)\";\n",
       "                var nbb_cells = Jupyter.notebook.get_cells();\n",
       "                for (var i = 0; i < nbb_cells.length; ++i) {\n",
       "                    if (nbb_cells[i].input_prompt_number == nbb_cell_id) {\n",
       "                        if (nbb_cells[i].get_text() == nbb_unformatted_code) {\n",
       "                             nbb_cells[i].set_text(nbb_formatted_code);\n",
       "                        }\n",
       "                        break;\n",
       "                    }\n",
       "                }\n",
       "            }, 500);\n",
       "            "
      ],
      "text/plain": [
       "<IPython.core.display.Javascript object>"
      ]
     },
     "metadata": {},
     "output_type": "display_data"
    }
   ],
   "source": [
    "encoder = preprocessing.LabelEncoder()\n",
    "discretizer = preprocessing.KBinsDiscretizer(n_bins=5, encode=\"ordinal\", strategy=\"quantile\")\n",
    "\n",
    "p = pp.Preprocessor([(\"encoder\", encoder), (\"discretizer\", discretizer)])\n",
    "discretized_data, est = p.apply(X_train)"
   ]
  },
  {
   "cell_type": "code",
   "execution_count": 19,
   "metadata": {},
   "outputs": [
    {
     "data": {
      "text/plain": [
       "{'types': {'top3': 'disc_num',\n",
       "  'top3_mean': 'cont',\n",
       "  'game_sum': 'cont',\n",
       "  'is_gamer': 'disc_num',\n",
       "  'parent_sum': 'cont',\n",
       "  'is_parent': 'disc_num',\n",
       "  'driver_sum': 'cont',\n",
       "  'is_driver': 'disc_num',\n",
       "  'pets_sum': 'cont',\n",
       "  'has_pets': 'disc_num',\n",
       "  'dress, fashion, color, style': 'cont',\n",
       "  'massage, meditation, yoga': 'cont',\n",
       "  'game, team, competition, sport': 'cont',\n",
       "  'color, flowers, interior, design': 'cont',\n",
       "  'iphone, apple, technology, equipment, smartphone': 'cont',\n",
       "  'client, project, internet, business, company': 'cont',\n",
       "  'war, history, army, politics': 'cont',\n",
       "  'beauty, hair, manicure, salon': 'cont',\n",
       "  'handmade, materials, products': 'cont',\n",
       "  'work, schedule, earnings, money': 'cont',\n",
       "  'music, concerts, rock, tickets, festivals': 'cont',\n",
       "  'treatment, doctors, tests, clinic, health': 'cont',\n",
       "  'school, education, question, topic': 'cont',\n",
       "  'skin, face, care, cosmitology': 'cont',\n",
       "  'book, reading, language, word, literature': 'cont',\n",
       "  'participation, festival, exhibition': 'cont',\n",
       "  'vacation, sea, accommodation, cost': 'cont',\n",
       "  'shop, price, gifts, internet': 'cont',\n",
       "  'home, renovation, decoration, installation': 'cont',\n",
       "  'film, series, cinema, genre': 'cont',\n",
       "  'football, match, russia, team, goalkeeper': 'cont',\n",
       "  'car, cars, sale, tires': 'cont',\n",
       "  'sale, clothes, size, price, sewing': 'cont',\n",
       "  'ingredients, cooking, dishes, salt, spices': 'cont',\n",
       "  'theater, performance, actors': 'cont',\n",
       "  'photographer, photography, show, wedding, photographer': 'cont',\n",
       "  'top1_interes': 'disc',\n",
       "  'top2_interes': 'disc',\n",
       "  'top3_interes': 'disc',\n",
       "  'top4_interes': 'disc'},\n",
       " 'signs': {'top3_mean': 'pos',\n",
       "  'game_sum': 'pos',\n",
       "  'parent_sum': 'pos',\n",
       "  'driver_sum': 'pos',\n",
       "  'pets_sum': 'pos',\n",
       "  'dress, fashion, color, style': 'pos',\n",
       "  'massage, meditation, yoga': 'pos',\n",
       "  'game, team, competition, sport': 'pos',\n",
       "  'color, flowers, interior, design': 'pos',\n",
       "  'iphone, apple, technology, equipment, smartphone': 'pos',\n",
       "  'client, project, internet, business, company': 'pos',\n",
       "  'war, history, army, politics': 'pos',\n",
       "  'beauty, hair, manicure, salon': 'pos',\n",
       "  'handmade, materials, products': 'pos',\n",
       "  'work, schedule, earnings, money': 'pos',\n",
       "  'music, concerts, rock, tickets, festivals': 'pos',\n",
       "  'treatment, doctors, tests, clinic, health': 'pos',\n",
       "  'school, education, question, topic': 'pos',\n",
       "  'skin, face, care, cosmitology': 'pos',\n",
       "  'book, reading, language, word, literature': 'pos',\n",
       "  'participation, festival, exhibition': 'pos',\n",
       "  'vacation, sea, accommodation, cost': 'pos',\n",
       "  'shop, price, gifts, internet': 'pos',\n",
       "  'home, renovation, decoration, installation': 'pos',\n",
       "  'film, series, cinema, genre': 'pos',\n",
       "  'football, match, russia, team, goalkeeper': 'pos',\n",
       "  'car, cars, sale, tires': 'pos',\n",
       "  'sale, clothes, size, price, sewing': 'pos',\n",
       "  'ingredients, cooking, dishes, salt, spices': 'pos',\n",
       "  'theater, performance, actors': 'pos',\n",
       "  'photographer, photography, show, wedding, photographer': 'pos'}}"
      ]
     },
     "execution_count": 19,
     "metadata": {},
     "output_type": "execute_result"
    },
    {
     "name": "stdout",
     "output_type": "stream",
     "text": [
      "time: 0 ns (started: 2023-08-04 23:16:26 +03:00)\n"
     ]
    },
    {
     "data": {
      "application/javascript": [
       "\n",
       "            setTimeout(function() {\n",
       "                var nbb_cell_id = 19;\n",
       "                var nbb_unformatted_code = \"bn = HybridBN(has_logit=True, use_mixture=True)  # init BN\\ninfo = p.info\\ninfo\";\n",
       "                var nbb_formatted_code = \"bn = HybridBN(has_logit=True, use_mixture=True)  # init BN\\ninfo = p.info\\ninfo\";\n",
       "                var nbb_cells = Jupyter.notebook.get_cells();\n",
       "                for (var i = 0; i < nbb_cells.length; ++i) {\n",
       "                    if (nbb_cells[i].input_prompt_number == nbb_cell_id) {\n",
       "                        if (nbb_cells[i].get_text() == nbb_unformatted_code) {\n",
       "                             nbb_cells[i].set_text(nbb_formatted_code);\n",
       "                        }\n",
       "                        break;\n",
       "                    }\n",
       "                }\n",
       "            }, 500);\n",
       "            "
      ],
      "text/plain": [
       "<IPython.core.display.Javascript object>"
      ]
     },
     "metadata": {},
     "output_type": "display_data"
    }
   ],
   "source": [
    "bn = HybridBN(has_logit=True, use_mixture=True)  # init BN\n",
    "info = p.info\n",
    "info"
   ]
  },
  {
   "cell_type": "code",
   "execution_count": 20,
   "metadata": {},
   "outputs": [
    {
     "data": {
      "application/vnd.jupyter.widget-view+json": {
       "model_id": "8a499f412a2f4a2284c9dc1446da7c42",
       "version_major": 2,
       "version_minor": 0
      },
      "text/plain": [
       "  0%|          | 0/1000000 [00:00<?, ?it/s]"
      ]
     },
     "metadata": {},
     "output_type": "display_data"
    },
    {
     "name": "stdout",
     "output_type": "stream",
     "text": [
      "time: 50.7 s (started: 2023-08-04 23:16:27 +03:00)\n"
     ]
    },
    {
     "data": {
      "application/javascript": [
       "\n",
       "            setTimeout(function() {\n",
       "                var nbb_cell_id = 20;\n",
       "                var nbb_unformatted_code = \"bn.add_nodes(info)\\nbn.add_edges(discretized_data, scoring_function=(\\\"K2\\\", K2Score))\";\n",
       "                var nbb_formatted_code = \"bn.add_nodes(info)\\nbn.add_edges(discretized_data, scoring_function=(\\\"K2\\\", K2Score))\";\n",
       "                var nbb_cells = Jupyter.notebook.get_cells();\n",
       "                for (var i = 0; i < nbb_cells.length; ++i) {\n",
       "                    if (nbb_cells[i].input_prompt_number == nbb_cell_id) {\n",
       "                        if (nbb_cells[i].get_text() == nbb_unformatted_code) {\n",
       "                             nbb_cells[i].set_text(nbb_formatted_code);\n",
       "                        }\n",
       "                        break;\n",
       "                    }\n",
       "                }\n",
       "            }, 500);\n",
       "            "
      ],
      "text/plain": [
       "<IPython.core.display.Javascript object>"
      ]
     },
     "metadata": {},
     "output_type": "display_data"
    }
   ],
   "source": [
    "bn.add_nodes(info)\n",
    "bn.add_edges(discretized_data, scoring_function=(\"K2\", K2Score))"
   ]
  },
  {
   "cell_type": "code",
   "execution_count": 21,
   "metadata": {},
   "outputs": [
    {
     "data": {
      "text/html": [
       "<div>\n",
       "<style scoped>\n",
       "    .dataframe tbody tr th:only-of-type {\n",
       "        vertical-align: middle;\n",
       "    }\n",
       "\n",
       "    .dataframe tbody tr th {\n",
       "        vertical-align: top;\n",
       "    }\n",
       "\n",
       "    .dataframe thead th {\n",
       "        text-align: right;\n",
       "    }\n",
       "</style>\n",
       "<table border=\"1\" class=\"dataframe\">\n",
       "  <thead>\n",
       "    <tr style=\"text-align: right;\">\n",
       "      <th></th>\n",
       "      <th>name</th>\n",
       "      <th>node_type</th>\n",
       "      <th>data_type</th>\n",
       "      <th>parents</th>\n",
       "      <th>parents_types</th>\n",
       "    </tr>\n",
       "  </thead>\n",
       "  <tbody>\n",
       "    <tr>\n",
       "      <th>0</th>\n",
       "      <td>game_sum</td>\n",
       "      <td>MixtureGaussian</td>\n",
       "      <td>cont</td>\n",
       "      <td>[]</td>\n",
       "      <td>[]</td>\n",
       "    </tr>\n",
       "    <tr>\n",
       "      <th>1</th>\n",
       "      <td>driver_sum</td>\n",
       "      <td>MixtureGaussian</td>\n",
       "      <td>cont</td>\n",
       "      <td>[]</td>\n",
       "      <td>[]</td>\n",
       "    </tr>\n",
       "    <tr>\n",
       "      <th>2</th>\n",
       "      <td>has_pets</td>\n",
       "      <td>Discrete</td>\n",
       "      <td>disc_num</td>\n",
       "      <td>[]</td>\n",
       "      <td>[]</td>\n",
       "    </tr>\n",
       "    <tr>\n",
       "      <th>3</th>\n",
       "      <td>pets_sum</td>\n",
       "      <td>ConditionalMixtureGaussian</td>\n",
       "      <td>cont</td>\n",
       "      <td>[has_pets]</td>\n",
       "      <td>[disc_num]</td>\n",
       "    </tr>\n",
       "    <tr>\n",
       "      <th>4</th>\n",
       "      <td>top3</td>\n",
       "      <td>Logit (LogisticRegression)</td>\n",
       "      <td>disc_num</td>\n",
       "      <td>[pets_sum]</td>\n",
       "      <td>[cont]</td>\n",
       "    </tr>\n",
       "    <tr>\n",
       "      <th>5</th>\n",
       "      <td>is_gamer</td>\n",
       "      <td>ConditionalLogit (LogisticRegression)</td>\n",
       "      <td>disc_num</td>\n",
       "      <td>[pets_sum, top3]</td>\n",
       "      <td>[cont, disc_num]</td>\n",
       "    </tr>\n",
       "    <tr>\n",
       "      <th>6</th>\n",
       "      <td>is_parent</td>\n",
       "      <td>ConditionalLogit (LogisticRegression)</td>\n",
       "      <td>disc_num</td>\n",
       "      <td>[pets_sum, top3, is_gamer]</td>\n",
       "      <td>[cont, disc_num, disc_num]</td>\n",
       "    </tr>\n",
       "    <tr>\n",
       "      <th>7</th>\n",
       "      <td>parent_sum</td>\n",
       "      <td>ConditionalMixtureGaussian</td>\n",
       "      <td>cont</td>\n",
       "      <td>[top3, is_parent]</td>\n",
       "      <td>[disc_num, disc_num]</td>\n",
       "    </tr>\n",
       "    <tr>\n",
       "      <th>8</th>\n",
       "      <td>top3_mean</td>\n",
       "      <td>ConditionalMixtureGaussian</td>\n",
       "      <td>cont</td>\n",
       "      <td>[parent_sum, top3]</td>\n",
       "      <td>[cont, disc_num]</td>\n",
       "    </tr>\n",
       "    <tr>\n",
       "      <th>9</th>\n",
       "      <td>color, flowers, interior, design</td>\n",
       "      <td>ConditionalMixtureGaussian</td>\n",
       "      <td>cont</td>\n",
       "      <td>[parent_sum, pets_sum, is_gamer, is_parent]</td>\n",
       "      <td>[cont, cont, disc_num, disc_num]</td>\n",
       "    </tr>\n",
       "    <tr>\n",
       "      <th>10</th>\n",
       "      <td>dress, fashion, color, style</td>\n",
       "      <td>ConditionalMixtureGaussian</td>\n",
       "      <td>cont</td>\n",
       "      <td>[parent_sum, color, flowers, interior, design,...</td>\n",
       "      <td>[cont, cont, disc_num]</td>\n",
       "    </tr>\n",
       "    <tr>\n",
       "      <th>11</th>\n",
       "      <td>beauty, hair, manicure, salon</td>\n",
       "      <td>MixtureGaussian</td>\n",
       "      <td>cont</td>\n",
       "      <td>[dress, fashion, color, style, color, flowers,...</td>\n",
       "      <td>[cont, cont]</td>\n",
       "    </tr>\n",
       "    <tr>\n",
       "      <th>12</th>\n",
       "      <td>shop, price, gifts, internet</td>\n",
       "      <td>ConditionalMixtureGaussian</td>\n",
       "      <td>cont</td>\n",
       "      <td>[dress, fashion, color, style, beauty, hair, m...</td>\n",
       "      <td>[cont, cont, disc_num]</td>\n",
       "    </tr>\n",
       "    <tr>\n",
       "      <th>13</th>\n",
       "      <td>top1_interes</td>\n",
       "      <td>Logit (LogisticRegression)</td>\n",
       "      <td>disc</td>\n",
       "      <td>[beauty, hair, manicure, salon, shop, price, g...</td>\n",
       "      <td>[cont, cont]</td>\n",
       "    </tr>\n",
       "    <tr>\n",
       "      <th>14</th>\n",
       "      <td>top2_interes</td>\n",
       "      <td>ConditionalLogit (LogisticRegression)</td>\n",
       "      <td>disc</td>\n",
       "      <td>[shop, price, gifts, internet, top1_interes]</td>\n",
       "      <td>[cont, disc]</td>\n",
       "    </tr>\n",
       "    <tr>\n",
       "      <th>15</th>\n",
       "      <td>top4_interes</td>\n",
       "      <td>ConditionalLogit (LogisticRegression)</td>\n",
       "      <td>disc</td>\n",
       "      <td>[dress, fashion, color, style, top1_interes]</td>\n",
       "      <td>[cont, disc]</td>\n",
       "    </tr>\n",
       "    <tr>\n",
       "      <th>16</th>\n",
       "      <td>participation, festival, exhibition</td>\n",
       "      <td>ConditionalMixtureGaussian</td>\n",
       "      <td>cont</td>\n",
       "      <td>[top1_interes, top2_interes]</td>\n",
       "      <td>[disc, disc]</td>\n",
       "    </tr>\n",
       "    <tr>\n",
       "      <th>17</th>\n",
       "      <td>film, series, cinema, genre</td>\n",
       "      <td>ConditionalMixtureGaussian</td>\n",
       "      <td>cont</td>\n",
       "      <td>[top1_interes, top2_interes]</td>\n",
       "      <td>[disc, disc]</td>\n",
       "    </tr>\n",
       "    <tr>\n",
       "      <th>18</th>\n",
       "      <td>vacation, sea, accommodation, cost</td>\n",
       "      <td>ConditionalMixtureGaussian</td>\n",
       "      <td>cont</td>\n",
       "      <td>[top1_interes, top2_interes]</td>\n",
       "      <td>[disc, disc]</td>\n",
       "    </tr>\n",
       "    <tr>\n",
       "      <th>19</th>\n",
       "      <td>home, renovation, decoration, installation</td>\n",
       "      <td>ConditionalMixtureGaussian</td>\n",
       "      <td>cont</td>\n",
       "      <td>[top1_interes, top2_interes]</td>\n",
       "      <td>[disc, disc]</td>\n",
       "    </tr>\n",
       "    <tr>\n",
       "      <th>20</th>\n",
       "      <td>photographer, photography, show, wedding, phot...</td>\n",
       "      <td>ConditionalMixtureGaussian</td>\n",
       "      <td>cont</td>\n",
       "      <td>[beauty, hair, manicure, salon, top2_interes]</td>\n",
       "      <td>[cont, disc]</td>\n",
       "    </tr>\n",
       "    <tr>\n",
       "      <th>21</th>\n",
       "      <td>music, concerts, rock, tickets, festivals</td>\n",
       "      <td>ConditionalMixtureGaussian</td>\n",
       "      <td>cont</td>\n",
       "      <td>[top1_interes, top2_interes]</td>\n",
       "      <td>[disc, disc]</td>\n",
       "    </tr>\n",
       "    <tr>\n",
       "      <th>22</th>\n",
       "      <td>game, team, competition, sport</td>\n",
       "      <td>ConditionalMixtureGaussian</td>\n",
       "      <td>cont</td>\n",
       "      <td>[top1_interes, top2_interes]</td>\n",
       "      <td>[disc, disc]</td>\n",
       "    </tr>\n",
       "    <tr>\n",
       "      <th>23</th>\n",
       "      <td>ingredients, cooking, dishes, salt, spices</td>\n",
       "      <td>ConditionalMixtureGaussian</td>\n",
       "      <td>cont</td>\n",
       "      <td>[top1_interes, top2_interes]</td>\n",
       "      <td>[disc, disc]</td>\n",
       "    </tr>\n",
       "    <tr>\n",
       "      <th>24</th>\n",
       "      <td>war, history, army, politics</td>\n",
       "      <td>ConditionalMixtureGaussian</td>\n",
       "      <td>cont</td>\n",
       "      <td>[top1_interes, top2_interes]</td>\n",
       "      <td>[disc, disc]</td>\n",
       "    </tr>\n",
       "    <tr>\n",
       "      <th>25</th>\n",
       "      <td>top3_interes</td>\n",
       "      <td>ConditionalLogit (LogisticRegression)</td>\n",
       "      <td>disc</td>\n",
       "      <td>[participation, festival, exhibition, top1_int...</td>\n",
       "      <td>[cont, disc]</td>\n",
       "    </tr>\n",
       "    <tr>\n",
       "      <th>26</th>\n",
       "      <td>theater, performance, actors</td>\n",
       "      <td>ConditionalMixtureGaussian</td>\n",
       "      <td>cont</td>\n",
       "      <td>[participation, festival, exhibition, film, se...</td>\n",
       "      <td>[cont, cont, disc]</td>\n",
       "    </tr>\n",
       "    <tr>\n",
       "      <th>27</th>\n",
       "      <td>car, cars, sale, tires</td>\n",
       "      <td>ConditionalMixtureGaussian</td>\n",
       "      <td>cont</td>\n",
       "      <td>[home, renovation, decoration, installation, t...</td>\n",
       "      <td>[cont, disc]</td>\n",
       "    </tr>\n",
       "    <tr>\n",
       "      <th>28</th>\n",
       "      <td>skin, face, care, cosmitology</td>\n",
       "      <td>MixtureGaussian</td>\n",
       "      <td>cont</td>\n",
       "      <td>[dress, fashion, color, style, beauty, hair, m...</td>\n",
       "      <td>[cont, cont, cont]</td>\n",
       "    </tr>\n",
       "    <tr>\n",
       "      <th>29</th>\n",
       "      <td>is_driver</td>\n",
       "      <td>Logit (LogisticRegression)</td>\n",
       "      <td>disc_num</td>\n",
       "      <td>[car, cars, sale, tires]</td>\n",
       "      <td>[cont]</td>\n",
       "    </tr>\n",
       "    <tr>\n",
       "      <th>30</th>\n",
       "      <td>handmade, materials, products</td>\n",
       "      <td>MixtureGaussian</td>\n",
       "      <td>cont</td>\n",
       "      <td>[beauty, hair, manicure, salon, skin, face, ca...</td>\n",
       "      <td>[cont, cont, cont]</td>\n",
       "    </tr>\n",
       "    <tr>\n",
       "      <th>31</th>\n",
       "      <td>iphone, apple, technology, equipment, smartphone</td>\n",
       "      <td>MixtureGaussian</td>\n",
       "      <td>cont</td>\n",
       "      <td>[handmade, materials, products, shop, price, g...</td>\n",
       "      <td>[cont, cont, cont]</td>\n",
       "    </tr>\n",
       "    <tr>\n",
       "      <th>32</th>\n",
       "      <td>client, project, internet, business, company</td>\n",
       "      <td>ConditionalMixtureGaussian</td>\n",
       "      <td>cont</td>\n",
       "      <td>[handmade, materials, products, top1_interes]</td>\n",
       "      <td>[cont, disc]</td>\n",
       "    </tr>\n",
       "    <tr>\n",
       "      <th>33</th>\n",
       "      <td>sale, clothes, size, price, sewing</td>\n",
       "      <td>MixtureGaussian</td>\n",
       "      <td>cont</td>\n",
       "      <td>[handmade, materials, products, shop, price, g...</td>\n",
       "      <td>[cont, cont, cont]</td>\n",
       "    </tr>\n",
       "    <tr>\n",
       "      <th>34</th>\n",
       "      <td>treatment, doctors, tests, clinic, health</td>\n",
       "      <td>MixtureGaussian</td>\n",
       "      <td>cont</td>\n",
       "      <td>[handmade, materials, products, skin, face, ca...</td>\n",
       "      <td>[cont, cont]</td>\n",
       "    </tr>\n",
       "    <tr>\n",
       "      <th>35</th>\n",
       "      <td>football, match, russia, team, goalkeeper</td>\n",
       "      <td>MixtureGaussian</td>\n",
       "      <td>cont</td>\n",
       "      <td>[game, team, competition, sport, handmade, mat...</td>\n",
       "      <td>[cont, cont, cont]</td>\n",
       "    </tr>\n",
       "    <tr>\n",
       "      <th>36</th>\n",
       "      <td>work, schedule, earnings, money</td>\n",
       "      <td>MixtureGaussian</td>\n",
       "      <td>cont</td>\n",
       "      <td>[client, project, internet, business, company,...</td>\n",
       "      <td>[cont, cont, cont]</td>\n",
       "    </tr>\n",
       "    <tr>\n",
       "      <th>37</th>\n",
       "      <td>book, reading, language, word, literature</td>\n",
       "      <td>MixtureGaussian</td>\n",
       "      <td>cont</td>\n",
       "      <td>[client, project, internet, business, company,...</td>\n",
       "      <td>[cont, cont, cont]</td>\n",
       "    </tr>\n",
       "    <tr>\n",
       "      <th>38</th>\n",
       "      <td>massage, meditation, yoga</td>\n",
       "      <td>MixtureGaussian</td>\n",
       "      <td>cont</td>\n",
       "      <td>[beauty, hair, manicure, salon, handmade, mate...</td>\n",
       "      <td>[cont, cont, cont]</td>\n",
       "    </tr>\n",
       "    <tr>\n",
       "      <th>39</th>\n",
       "      <td>school, education, question, topic</td>\n",
       "      <td>ConditionalMixtureGaussian</td>\n",
       "      <td>cont</td>\n",
       "      <td>[book, reading, language, word, literature, to...</td>\n",
       "      <td>[cont, disc]</td>\n",
       "    </tr>\n",
       "  </tbody>\n",
       "</table>\n",
       "</div>"
      ],
      "text/plain": [
       "                                                 name  \\\n",
       "0                                            game_sum   \n",
       "1                                          driver_sum   \n",
       "2                                            has_pets   \n",
       "3                                            pets_sum   \n",
       "4                                                top3   \n",
       "5                                            is_gamer   \n",
       "6                                           is_parent   \n",
       "7                                          parent_sum   \n",
       "8                                           top3_mean   \n",
       "9                    color, flowers, interior, design   \n",
       "10                       dress, fashion, color, style   \n",
       "11                      beauty, hair, manicure, salon   \n",
       "12                       shop, price, gifts, internet   \n",
       "13                                       top1_interes   \n",
       "14                                       top2_interes   \n",
       "15                                       top4_interes   \n",
       "16                participation, festival, exhibition   \n",
       "17                        film, series, cinema, genre   \n",
       "18                 vacation, sea, accommodation, cost   \n",
       "19         home, renovation, decoration, installation   \n",
       "20  photographer, photography, show, wedding, phot...   \n",
       "21          music, concerts, rock, tickets, festivals   \n",
       "22                     game, team, competition, sport   \n",
       "23         ingredients, cooking, dishes, salt, spices   \n",
       "24                       war, history, army, politics   \n",
       "25                                       top3_interes   \n",
       "26                       theater, performance, actors   \n",
       "27                             car, cars, sale, tires   \n",
       "28                      skin, face, care, cosmitology   \n",
       "29                                          is_driver   \n",
       "30                      handmade, materials, products   \n",
       "31   iphone, apple, technology, equipment, smartphone   \n",
       "32       client, project, internet, business, company   \n",
       "33                 sale, clothes, size, price, sewing   \n",
       "34          treatment, doctors, tests, clinic, health   \n",
       "35          football, match, russia, team, goalkeeper   \n",
       "36                    work, schedule, earnings, money   \n",
       "37          book, reading, language, word, literature   \n",
       "38                          massage, meditation, yoga   \n",
       "39                 school, education, question, topic   \n",
       "\n",
       "                                node_type data_type  \\\n",
       "0                         MixtureGaussian      cont   \n",
       "1                         MixtureGaussian      cont   \n",
       "2                                Discrete  disc_num   \n",
       "3              ConditionalMixtureGaussian      cont   \n",
       "4              Logit (LogisticRegression)  disc_num   \n",
       "5   ConditionalLogit (LogisticRegression)  disc_num   \n",
       "6   ConditionalLogit (LogisticRegression)  disc_num   \n",
       "7              ConditionalMixtureGaussian      cont   \n",
       "8              ConditionalMixtureGaussian      cont   \n",
       "9              ConditionalMixtureGaussian      cont   \n",
       "10             ConditionalMixtureGaussian      cont   \n",
       "11                        MixtureGaussian      cont   \n",
       "12             ConditionalMixtureGaussian      cont   \n",
       "13             Logit (LogisticRegression)      disc   \n",
       "14  ConditionalLogit (LogisticRegression)      disc   \n",
       "15  ConditionalLogit (LogisticRegression)      disc   \n",
       "16             ConditionalMixtureGaussian      cont   \n",
       "17             ConditionalMixtureGaussian      cont   \n",
       "18             ConditionalMixtureGaussian      cont   \n",
       "19             ConditionalMixtureGaussian      cont   \n",
       "20             ConditionalMixtureGaussian      cont   \n",
       "21             ConditionalMixtureGaussian      cont   \n",
       "22             ConditionalMixtureGaussian      cont   \n",
       "23             ConditionalMixtureGaussian      cont   \n",
       "24             ConditionalMixtureGaussian      cont   \n",
       "25  ConditionalLogit (LogisticRegression)      disc   \n",
       "26             ConditionalMixtureGaussian      cont   \n",
       "27             ConditionalMixtureGaussian      cont   \n",
       "28                        MixtureGaussian      cont   \n",
       "29             Logit (LogisticRegression)  disc_num   \n",
       "30                        MixtureGaussian      cont   \n",
       "31                        MixtureGaussian      cont   \n",
       "32             ConditionalMixtureGaussian      cont   \n",
       "33                        MixtureGaussian      cont   \n",
       "34                        MixtureGaussian      cont   \n",
       "35                        MixtureGaussian      cont   \n",
       "36                        MixtureGaussian      cont   \n",
       "37                        MixtureGaussian      cont   \n",
       "38                        MixtureGaussian      cont   \n",
       "39             ConditionalMixtureGaussian      cont   \n",
       "\n",
       "                                              parents  \\\n",
       "0                                                  []   \n",
       "1                                                  []   \n",
       "2                                                  []   \n",
       "3                                          [has_pets]   \n",
       "4                                          [pets_sum]   \n",
       "5                                    [pets_sum, top3]   \n",
       "6                          [pets_sum, top3, is_gamer]   \n",
       "7                                   [top3, is_parent]   \n",
       "8                                  [parent_sum, top3]   \n",
       "9         [parent_sum, pets_sum, is_gamer, is_parent]   \n",
       "10  [parent_sum, color, flowers, interior, design,...   \n",
       "11  [dress, fashion, color, style, color, flowers,...   \n",
       "12  [dress, fashion, color, style, beauty, hair, m...   \n",
       "13  [beauty, hair, manicure, salon, shop, price, g...   \n",
       "14       [shop, price, gifts, internet, top1_interes]   \n",
       "15       [dress, fashion, color, style, top1_interes]   \n",
       "16                       [top1_interes, top2_interes]   \n",
       "17                       [top1_interes, top2_interes]   \n",
       "18                       [top1_interes, top2_interes]   \n",
       "19                       [top1_interes, top2_interes]   \n",
       "20      [beauty, hair, manicure, salon, top2_interes]   \n",
       "21                       [top1_interes, top2_interes]   \n",
       "22                       [top1_interes, top2_interes]   \n",
       "23                       [top1_interes, top2_interes]   \n",
       "24                       [top1_interes, top2_interes]   \n",
       "25  [participation, festival, exhibition, top1_int...   \n",
       "26  [participation, festival, exhibition, film, se...   \n",
       "27  [home, renovation, decoration, installation, t...   \n",
       "28  [dress, fashion, color, style, beauty, hair, m...   \n",
       "29                           [car, cars, sale, tires]   \n",
       "30  [beauty, hair, manicure, salon, skin, face, ca...   \n",
       "31  [handmade, materials, products, shop, price, g...   \n",
       "32      [handmade, materials, products, top1_interes]   \n",
       "33  [handmade, materials, products, shop, price, g...   \n",
       "34  [handmade, materials, products, skin, face, ca...   \n",
       "35  [game, team, competition, sport, handmade, mat...   \n",
       "36  [client, project, internet, business, company,...   \n",
       "37  [client, project, internet, business, company,...   \n",
       "38  [beauty, hair, manicure, salon, handmade, mate...   \n",
       "39  [book, reading, language, word, literature, to...   \n",
       "\n",
       "                       parents_types  \n",
       "0                                 []  \n",
       "1                                 []  \n",
       "2                                 []  \n",
       "3                         [disc_num]  \n",
       "4                             [cont]  \n",
       "5                   [cont, disc_num]  \n",
       "6         [cont, disc_num, disc_num]  \n",
       "7               [disc_num, disc_num]  \n",
       "8                   [cont, disc_num]  \n",
       "9   [cont, cont, disc_num, disc_num]  \n",
       "10            [cont, cont, disc_num]  \n",
       "11                      [cont, cont]  \n",
       "12            [cont, cont, disc_num]  \n",
       "13                      [cont, cont]  \n",
       "14                      [cont, disc]  \n",
       "15                      [cont, disc]  \n",
       "16                      [disc, disc]  \n",
       "17                      [disc, disc]  \n",
       "18                      [disc, disc]  \n",
       "19                      [disc, disc]  \n",
       "20                      [cont, disc]  \n",
       "21                      [disc, disc]  \n",
       "22                      [disc, disc]  \n",
       "23                      [disc, disc]  \n",
       "24                      [disc, disc]  \n",
       "25                      [cont, disc]  \n",
       "26                [cont, cont, disc]  \n",
       "27                      [cont, disc]  \n",
       "28                [cont, cont, cont]  \n",
       "29                            [cont]  \n",
       "30                [cont, cont, cont]  \n",
       "31                [cont, cont, cont]  \n",
       "32                      [cont, disc]  \n",
       "33                [cont, cont, cont]  \n",
       "34                      [cont, cont]  \n",
       "35                [cont, cont, cont]  \n",
       "36                [cont, cont, cont]  \n",
       "37                [cont, cont, cont]  \n",
       "38                [cont, cont, cont]  \n",
       "39                      [cont, disc]  "
      ]
     },
     "execution_count": 21,
     "metadata": {},
     "output_type": "execute_result"
    },
    {
     "name": "stdout",
     "output_type": "stream",
     "text": [
      "time: 47 ms (started: 2023-08-04 23:17:22 +03:00)\n"
     ]
    },
    {
     "data": {
      "application/javascript": [
       "\n",
       "            setTimeout(function() {\n",
       "                var nbb_cell_id = 21;\n",
       "                var nbb_unformatted_code = \"del discretized_data\\nbn.get_info()\";\n",
       "                var nbb_formatted_code = \"del discretized_data\\nbn.get_info()\";\n",
       "                var nbb_cells = Jupyter.notebook.get_cells();\n",
       "                for (var i = 0; i < nbb_cells.length; ++i) {\n",
       "                    if (nbb_cells[i].input_prompt_number == nbb_cell_id) {\n",
       "                        if (nbb_cells[i].get_text() == nbb_unformatted_code) {\n",
       "                             nbb_cells[i].set_text(nbb_formatted_code);\n",
       "                        }\n",
       "                        break;\n",
       "                    }\n",
       "                }\n",
       "            }, 500);\n",
       "            "
      ],
      "text/plain": [
       "<IPython.core.display.Javascript object>"
      ]
     },
     "metadata": {},
     "output_type": "display_data"
    }
   ],
   "source": [
    "del discretized_data\n",
    "bn.get_info()"
   ]
  },
  {
   "cell_type": "code",
   "execution_count": 22,
   "metadata": {
    "scrolled": true
   },
   "outputs": [
    {
     "ename": "MemoryError",
     "evalue": "Unable to allocate 2.33 GiB for an array with shape (312487500,) and data type float64",
     "output_type": "error",
     "traceback": [
      "\u001b[1;31m---------------------------------------------------------------------------\u001b[0m",
      "\u001b[1;31m_RemoteTraceback\u001b[0m                          Traceback (most recent call last)",
      "\u001b[1;31m_RemoteTraceback\u001b[0m: \n\"\"\"\nTraceback (most recent call last):\n  File \"C:\\ProgramData\\Anaconda3\\lib\\site-packages\\joblib\\externals\\loky\\process_executor.py\", line 463, in _process_worker\n    r = call_item()\n  File \"C:\\ProgramData\\Anaconda3\\lib\\site-packages\\joblib\\externals\\loky\\process_executor.py\", line 291, in __call__\n    return self.fn(*self.args, **self.kwargs)\n  File \"C:\\ProgramData\\Anaconda3\\lib\\site-packages\\joblib\\parallel.py\", line 588, in __call__\n    return [func(*args, **kwargs)\n  File \"C:\\ProgramData\\Anaconda3\\lib\\site-packages\\joblib\\parallel.py\", line 588, in <listcomp>\n    return [func(*args, **kwargs)\n  File \"C:\\ProgramData\\Anaconda3\\lib\\site-packages\\bamt\\networks\\base.py\", line 510, in worker\n    return node.fit_parameters(data)\n  File \"C:\\ProgramData\\Anaconda3\\lib\\site-packages\\bamt\\nodes\\mixture_gaussian_node.py\", line 61, in fit_parameters\n    gmm = GMM(n_components=n_comp).from_samples(\n  File \"C:\\ProgramData\\Anaconda3\\lib\\site-packages\\gmr\\gmm.py\", line 208, in from_samples\n    self.covariances = covariance_initialization(\n  File \"C:\\ProgramData\\Anaconda3\\lib\\site-packages\\gmr\\gmm.py\", line 87, in covariance_initialization\n    pdist(X[:, i, np.newaxis], metric=\"euclidean\"))\n  File \"C:\\ProgramData\\Anaconda3\\lib\\site-packages\\scipy\\spatial\\distance.py\", line 2242, in pdist\n    return pdist_fn(X, out=out, **kwargs)\nnumpy.core._exceptions._ArrayMemoryError: Unable to allocate 2.33 GiB for an array with shape (312487500,) and data type float64\n\"\"\"",
      "\nThe above exception was the direct cause of the following exception:\n",
      "\u001b[1;31mMemoryError\u001b[0m                               Traceback (most recent call last)",
      "\u001b[1;32m~\\AppData\\Local\\Temp\\ipykernel_23016\\379199956.py\u001b[0m in \u001b[0;36m<module>\u001b[1;34m\u001b[0m\n\u001b[1;32m----> 1\u001b[1;33m \u001b[0mbn\u001b[0m\u001b[1;33m.\u001b[0m\u001b[0mfit_parameters\u001b[0m\u001b[1;33m(\u001b[0m\u001b[0mX_train\u001b[0m\u001b[1;33m)\u001b[0m\u001b[1;33m\u001b[0m\u001b[1;33m\u001b[0m\u001b[0m\n\u001b[0m",
      "\u001b[1;32mC:\\ProgramData\\Anaconda3\\lib\\site-packages\\bamt\\networks\\base.py\u001b[0m in \u001b[0;36mfit_parameters\u001b[1;34m(self, data, dropna, n_jobs)\u001b[0m\n\u001b[0;32m    510\u001b[0m             \u001b[1;32mreturn\u001b[0m \u001b[0mnode\u001b[0m\u001b[1;33m.\u001b[0m\u001b[0mfit_parameters\u001b[0m\u001b[1;33m(\u001b[0m\u001b[0mdata\u001b[0m\u001b[1;33m)\u001b[0m\u001b[1;33m\u001b[0m\u001b[1;33m\u001b[0m\u001b[0m\n\u001b[0;32m    511\u001b[0m \u001b[1;33m\u001b[0m\u001b[0m\n\u001b[1;32m--> 512\u001b[1;33m         \u001b[0mresults\u001b[0m \u001b[1;33m=\u001b[0m \u001b[0mParallel\u001b[0m\u001b[1;33m(\u001b[0m\u001b[0mn_jobs\u001b[0m\u001b[1;33m=\u001b[0m\u001b[0mn_jobs\u001b[0m\u001b[1;33m)\u001b[0m\u001b[1;33m(\u001b[0m\u001b[0mdelayed\u001b[0m\u001b[1;33m(\u001b[0m\u001b[0mworker\u001b[0m\u001b[1;33m)\u001b[0m\u001b[1;33m(\u001b[0m\u001b[0mnode\u001b[0m\u001b[1;33m)\u001b[0m \u001b[1;32mfor\u001b[0m \u001b[0mnode\u001b[0m \u001b[1;32min\u001b[0m \u001b[0mself\u001b[0m\u001b[1;33m.\u001b[0m\u001b[0mnodes\u001b[0m\u001b[1;33m)\u001b[0m\u001b[1;33m\u001b[0m\u001b[1;33m\u001b[0m\u001b[0m\n\u001b[0m\u001b[0;32m    513\u001b[0m \u001b[1;33m\u001b[0m\u001b[0m\n\u001b[0;32m    514\u001b[0m         \u001b[1;32mfor\u001b[0m \u001b[0mresult\u001b[0m\u001b[1;33m,\u001b[0m \u001b[0mnode\u001b[0m \u001b[1;32min\u001b[0m \u001b[0mzip\u001b[0m\u001b[1;33m(\u001b[0m\u001b[0mresults\u001b[0m\u001b[1;33m,\u001b[0m \u001b[0mself\u001b[0m\u001b[1;33m.\u001b[0m\u001b[0mnodes\u001b[0m\u001b[1;33m)\u001b[0m\u001b[1;33m:\u001b[0m\u001b[1;33m\u001b[0m\u001b[1;33m\u001b[0m\u001b[0m\n",
      "\u001b[1;32mC:\\ProgramData\\Anaconda3\\lib\\site-packages\\joblib\\parallel.py\u001b[0m in \u001b[0;36m__call__\u001b[1;34m(self, iterable)\u001b[0m\n\u001b[0;32m   1942\u001b[0m         \u001b[0mnext\u001b[0m\u001b[1;33m(\u001b[0m\u001b[0moutput\u001b[0m\u001b[1;33m)\u001b[0m\u001b[1;33m\u001b[0m\u001b[1;33m\u001b[0m\u001b[0m\n\u001b[0;32m   1943\u001b[0m \u001b[1;33m\u001b[0m\u001b[0m\n\u001b[1;32m-> 1944\u001b[1;33m         \u001b[1;32mreturn\u001b[0m \u001b[0moutput\u001b[0m \u001b[1;32mif\u001b[0m \u001b[0mself\u001b[0m\u001b[1;33m.\u001b[0m\u001b[0mreturn_generator\u001b[0m \u001b[1;32melse\u001b[0m \u001b[0mlist\u001b[0m\u001b[1;33m(\u001b[0m\u001b[0moutput\u001b[0m\u001b[1;33m)\u001b[0m\u001b[1;33m\u001b[0m\u001b[1;33m\u001b[0m\u001b[0m\n\u001b[0m\u001b[0;32m   1945\u001b[0m \u001b[1;33m\u001b[0m\u001b[0m\n\u001b[0;32m   1946\u001b[0m     \u001b[1;32mdef\u001b[0m \u001b[0m__repr__\u001b[0m\u001b[1;33m(\u001b[0m\u001b[0mself\u001b[0m\u001b[1;33m)\u001b[0m\u001b[1;33m:\u001b[0m\u001b[1;33m\u001b[0m\u001b[1;33m\u001b[0m\u001b[0m\n",
      "\u001b[1;32mC:\\ProgramData\\Anaconda3\\lib\\site-packages\\joblib\\parallel.py\u001b[0m in \u001b[0;36m_get_outputs\u001b[1;34m(self, iterator, pre_dispatch)\u001b[0m\n\u001b[0;32m   1585\u001b[0m \u001b[1;33m\u001b[0m\u001b[0m\n\u001b[0;32m   1586\u001b[0m             \u001b[1;32mwith\u001b[0m \u001b[0mself\u001b[0m\u001b[1;33m.\u001b[0m\u001b[0m_backend\u001b[0m\u001b[1;33m.\u001b[0m\u001b[0mretrieval_context\u001b[0m\u001b[1;33m(\u001b[0m\u001b[1;33m)\u001b[0m\u001b[1;33m:\u001b[0m\u001b[1;33m\u001b[0m\u001b[1;33m\u001b[0m\u001b[0m\n\u001b[1;32m-> 1587\u001b[1;33m                 \u001b[1;32myield\u001b[0m \u001b[1;32mfrom\u001b[0m \u001b[0mself\u001b[0m\u001b[1;33m.\u001b[0m\u001b[0m_retrieve\u001b[0m\u001b[1;33m(\u001b[0m\u001b[1;33m)\u001b[0m\u001b[1;33m\u001b[0m\u001b[1;33m\u001b[0m\u001b[0m\n\u001b[0m\u001b[0;32m   1588\u001b[0m \u001b[1;33m\u001b[0m\u001b[0m\n\u001b[0;32m   1589\u001b[0m         \u001b[1;32mexcept\u001b[0m \u001b[0mGeneratorExit\u001b[0m\u001b[1;33m:\u001b[0m\u001b[1;33m\u001b[0m\u001b[1;33m\u001b[0m\u001b[0m\n",
      "\u001b[1;32mC:\\ProgramData\\Anaconda3\\lib\\site-packages\\joblib\\parallel.py\u001b[0m in \u001b[0;36m_retrieve\u001b[1;34m(self)\u001b[0m\n\u001b[0;32m   1689\u001b[0m             \u001b[1;31m# worker traceback.\u001b[0m\u001b[1;33m\u001b[0m\u001b[1;33m\u001b[0m\u001b[0m\n\u001b[0;32m   1690\u001b[0m             \u001b[1;32mif\u001b[0m \u001b[0mself\u001b[0m\u001b[1;33m.\u001b[0m\u001b[0m_aborting\u001b[0m\u001b[1;33m:\u001b[0m\u001b[1;33m\u001b[0m\u001b[1;33m\u001b[0m\u001b[0m\n\u001b[1;32m-> 1691\u001b[1;33m                 \u001b[0mself\u001b[0m\u001b[1;33m.\u001b[0m\u001b[0m_raise_error_fast\u001b[0m\u001b[1;33m(\u001b[0m\u001b[1;33m)\u001b[0m\u001b[1;33m\u001b[0m\u001b[1;33m\u001b[0m\u001b[0m\n\u001b[0m\u001b[0;32m   1692\u001b[0m                 \u001b[1;32mbreak\u001b[0m\u001b[1;33m\u001b[0m\u001b[1;33m\u001b[0m\u001b[0m\n\u001b[0;32m   1693\u001b[0m \u001b[1;33m\u001b[0m\u001b[0m\n",
      "\u001b[1;32mC:\\ProgramData\\Anaconda3\\lib\\site-packages\\joblib\\parallel.py\u001b[0m in \u001b[0;36m_raise_error_fast\u001b[1;34m(self)\u001b[0m\n\u001b[0;32m   1724\u001b[0m         \u001b[1;31m# called directly or if the generator is gc'ed.\u001b[0m\u001b[1;33m\u001b[0m\u001b[1;33m\u001b[0m\u001b[0m\n\u001b[0;32m   1725\u001b[0m         \u001b[1;32mif\u001b[0m \u001b[0merror_job\u001b[0m \u001b[1;32mis\u001b[0m \u001b[1;32mnot\u001b[0m \u001b[1;32mNone\u001b[0m\u001b[1;33m:\u001b[0m\u001b[1;33m\u001b[0m\u001b[1;33m\u001b[0m\u001b[0m\n\u001b[1;32m-> 1726\u001b[1;33m             \u001b[0merror_job\u001b[0m\u001b[1;33m.\u001b[0m\u001b[0mget_result\u001b[0m\u001b[1;33m(\u001b[0m\u001b[0mself\u001b[0m\u001b[1;33m.\u001b[0m\u001b[0mtimeout\u001b[0m\u001b[1;33m)\u001b[0m\u001b[1;33m\u001b[0m\u001b[1;33m\u001b[0m\u001b[0m\n\u001b[0m\u001b[0;32m   1727\u001b[0m \u001b[1;33m\u001b[0m\u001b[0m\n\u001b[0;32m   1728\u001b[0m     \u001b[1;32mdef\u001b[0m \u001b[0m_warn_exit_early\u001b[0m\u001b[1;33m(\u001b[0m\u001b[0mself\u001b[0m\u001b[1;33m)\u001b[0m\u001b[1;33m:\u001b[0m\u001b[1;33m\u001b[0m\u001b[1;33m\u001b[0m\u001b[0m\n",
      "\u001b[1;32mC:\\ProgramData\\Anaconda3\\lib\\site-packages\\joblib\\parallel.py\u001b[0m in \u001b[0;36mget_result\u001b[1;34m(self, timeout)\u001b[0m\n\u001b[0;32m    733\u001b[0m             \u001b[1;31m# callback thread, and is stored internally. It's just waiting to\u001b[0m\u001b[1;33m\u001b[0m\u001b[1;33m\u001b[0m\u001b[0m\n\u001b[0;32m    734\u001b[0m             \u001b[1;31m# be returned.\u001b[0m\u001b[1;33m\u001b[0m\u001b[1;33m\u001b[0m\u001b[0m\n\u001b[1;32m--> 735\u001b[1;33m             \u001b[1;32mreturn\u001b[0m \u001b[0mself\u001b[0m\u001b[1;33m.\u001b[0m\u001b[0m_return_or_raise\u001b[0m\u001b[1;33m(\u001b[0m\u001b[1;33m)\u001b[0m\u001b[1;33m\u001b[0m\u001b[1;33m\u001b[0m\u001b[0m\n\u001b[0m\u001b[0;32m    736\u001b[0m \u001b[1;33m\u001b[0m\u001b[0m\n\u001b[0;32m    737\u001b[0m         \u001b[1;31m# For other backends, the main thread needs to run the retrieval step.\u001b[0m\u001b[1;33m\u001b[0m\u001b[1;33m\u001b[0m\u001b[0m\n",
      "\u001b[1;32mC:\\ProgramData\\Anaconda3\\lib\\site-packages\\joblib\\parallel.py\u001b[0m in \u001b[0;36m_return_or_raise\u001b[1;34m(self)\u001b[0m\n\u001b[0;32m    751\u001b[0m         \u001b[1;32mtry\u001b[0m\u001b[1;33m:\u001b[0m\u001b[1;33m\u001b[0m\u001b[1;33m\u001b[0m\u001b[0m\n\u001b[0;32m    752\u001b[0m             \u001b[1;32mif\u001b[0m \u001b[0mself\u001b[0m\u001b[1;33m.\u001b[0m\u001b[0mstatus\u001b[0m \u001b[1;33m==\u001b[0m \u001b[0mTASK_ERROR\u001b[0m\u001b[1;33m:\u001b[0m\u001b[1;33m\u001b[0m\u001b[1;33m\u001b[0m\u001b[0m\n\u001b[1;32m--> 753\u001b[1;33m                 \u001b[1;32mraise\u001b[0m \u001b[0mself\u001b[0m\u001b[1;33m.\u001b[0m\u001b[0m_result\u001b[0m\u001b[1;33m\u001b[0m\u001b[1;33m\u001b[0m\u001b[0m\n\u001b[0m\u001b[0;32m    754\u001b[0m             \u001b[1;32mreturn\u001b[0m \u001b[0mself\u001b[0m\u001b[1;33m.\u001b[0m\u001b[0m_result\u001b[0m\u001b[1;33m\u001b[0m\u001b[1;33m\u001b[0m\u001b[0m\n\u001b[0;32m    755\u001b[0m         \u001b[1;32mfinally\u001b[0m\u001b[1;33m:\u001b[0m\u001b[1;33m\u001b[0m\u001b[1;33m\u001b[0m\u001b[0m\n",
      "\u001b[1;31mMemoryError\u001b[0m: Unable to allocate 2.33 GiB for an array with shape (312487500,) and data type float64"
     ]
    },
    {
     "name": "stdout",
     "output_type": "stream",
     "text": [
      "time: 2min 52s (started: 2023-08-04 23:17:27 +03:00)\n"
     ]
    },
    {
     "data": {
      "application/javascript": [
       "\n",
       "            setTimeout(function() {\n",
       "                var nbb_cell_id = 22;\n",
       "                var nbb_unformatted_code = \"bn.fit_parameters(X_train)\";\n",
       "                var nbb_formatted_code = \"bn.fit_parameters(X_train)\";\n",
       "                var nbb_cells = Jupyter.notebook.get_cells();\n",
       "                for (var i = 0; i < nbb_cells.length; ++i) {\n",
       "                    if (nbb_cells[i].input_prompt_number == nbb_cell_id) {\n",
       "                        if (nbb_cells[i].get_text() == nbb_unformatted_code) {\n",
       "                             nbb_cells[i].set_text(nbb_formatted_code);\n",
       "                        }\n",
       "                        break;\n",
       "                    }\n",
       "                }\n",
       "            }, 500);\n",
       "            "
      ],
      "text/plain": [
       "<IPython.core.display.Javascript object>"
      ]
     },
     "metadata": {},
     "output_type": "display_data"
    }
   ],
   "source": [
    "bn.fit_parameters(X_train)"
   ]
  },
  {
   "cell_type": "code",
   "execution_count": null,
   "metadata": {},
   "outputs": [],
   "source": [
    "pred = bn.predict(X_test.drop(columns=[target]), 5)"
   ]
  },
  {
   "cell_type": "code",
   "execution_count": null,
   "metadata": {},
   "outputs": [],
   "source": [
    "preds = pred[target]\n",
    "print(f\"Bamt: f1={f1_score(y_true=X_test[target].astype(str),y_pred=preds,pos_label='1')}\")\n",
    "print(classification_report(y_true=X_test[target].astype(str), y_pred=preds, digits=4))"
   ]
  },
  {
   "cell_type": "code",
   "execution_count": null,
   "metadata": {},
   "outputs": [],
   "source": []
  }
 ],
 "metadata": {
  "kernelspec": {
   "display_name": "Python 3 (ipykernel)",
   "language": "python",
   "name": "python3"
  },
  "language_info": {
   "codemirror_mode": {
    "name": "ipython",
    "version": 3
   },
   "file_extension": ".py",
   "mimetype": "text/x-python",
   "name": "python",
   "nbconvert_exporter": "python",
   "pygments_lexer": "ipython3",
   "version": "3.9.13"
  },
  "vscode": {
   "interpreter": {
    "hash": "53632c8af5fcbb531600ad898ae2c7ebe66cb87f4dc6e87b77479f210b482a56"
   }
  }
 },
 "nbformat": 4,
 "nbformat_minor": 2
}
